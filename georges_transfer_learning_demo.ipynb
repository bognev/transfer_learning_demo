{
  "nbformat": 4,
  "nbformat_minor": 0,
  "metadata": {
    "colab": {
      "name": "georges_transfer_learning_demo.ipynb",
      "provenance": [],
      "collapsed_sections": [],
      "mount_file_id": "1pzJUVPwVjP3LxWMU9dH7xzyS9FUWU3NN",
      "authorship_tag": "ABX9TyObKJyDUc5T2HFjpoiJAwgQ",
      "include_colab_link": true
    },
    "kernelspec": {
      "name": "python3",
      "display_name": "Python 3"
    },
    "accelerator": "GPU"
  },
  "cells": [
    {
      "cell_type": "markdown",
      "metadata": {
        "id": "view-in-github",
        "colab_type": "text"
      },
      "source": [
        "<a href=\"https://colab.research.google.com/github/bognev/transfer_learning_demo/blob/main/georges_transfer_learning_demo.ipynb\" target=\"_parent\"><img src=\"https://colab.research.google.com/assets/colab-badge.svg\" alt=\"Open In Colab\"/></a>"
      ]
    },
    {
      "cell_type": "code",
      "metadata": {
        "id": "QNgdUdZ0REx5"
      },
      "source": [
        "from PIL import Image\r\n",
        "import requests\r\n",
        "import csv\r\n",
        "from random import shuffle\r\n",
        "from tqdm import tqdm\r\n",
        "import torch\r\n",
        "import torch.nn as nn\r\n",
        "import torch.optim as optim\r\n",
        "from torch.optim import lr_scheduler\r\n",
        "import numpy as np\r\n",
        "import torchvision\r\n",
        "from torchvision import datasets, models, transforms\r\n",
        "import matplotlib.pyplot as plt\r\n",
        "import time\r\n",
        "import os\r\n",
        "import copy"
      ],
      "execution_count": 173,
      "outputs": []
    },
    {
      "cell_type": "code",
      "metadata": {
        "colab": {
          "base_uri": "https://localhost:8080/"
        },
        "id": "OoDBnNy5Rbof",
        "outputId": "0cb71d06-ecde-4391-c082-41b7ad38a3b1"
      },
      "source": [
        "from google.colab import drive\r\n",
        "drive.mount('/content/gdrive')"
      ],
      "execution_count": 174,
      "outputs": [
        {
          "output_type": "stream",
          "text": [
            "Drive already mounted at /content/gdrive; to attempt to forcibly remount, call drive.mount(\"/content/gdrive\", force_remount=True).\n"
          ],
          "name": "stdout"
        }
      ]
    },
    {
      "cell_type": "code",
      "metadata": {
        "id": "h2S4fvq6XCeD"
      },
      "source": [
        "%matplotlib inline\r\n",
        "plt.ion()"
      ],
      "execution_count": 175,
      "outputs": []
    },
    {
      "cell_type": "code",
      "metadata": {
        "id": "OMLNhcACPn0K"
      },
      "source": [
        "def download_images(url_list, dataset_folder):\r\n",
        "    for url in tqdm(url_list):\r\n",
        "        img = Image.open(requests.get(url, stream=True).raw)\r\n",
        "        filename = url.split(\"/\")[-1]\r\n",
        "        img.save(dataset_folder + filename, \"JPEG\")\r\n",
        "    print(\"done\")\r\n",
        "\r\n",
        "def load_dataset(file, dataset_folder_train, dataset_folder_val):\r\n",
        "    url_list = []\r\n",
        "    with open(file, 'r') as fd:\r\n",
        "        reader = csv.reader(fd)\r\n",
        "        for url in reader:\r\n",
        "            url_list.append(url[0])\r\n",
        "        shuffle(url_list)\r\n",
        "        length = len(url_list)\r\n",
        "        download_images([url_list[i] for i in range(0, int(0.8 * length))], dataset_folder_train)\r\n",
        "        download_images([url_list[i] for i in range(int(0.8 * length), length)], dataset_folder_val)\r\n",
        "\r\n",
        "def full_load():\r\n",
        "    path = F\"/content/gdrive/My Drive\" \r\n",
        "    georges = path + \"/georges.csv\"\r\n",
        "    dataset_folder_train = path + \"/georges_data/train/georges/\"\r\n",
        "    dataset_folder_val = path + \"/georges_data/val/georges/\"\r\n",
        "    load_dataset(georges, dataset_folder_train, dataset_folder_val)\r\n",
        "\r\n",
        "    non_georges = path + \"/non_georges.csv\"\r\n",
        "    dataset_folder_train = path + \"/georges_data/train/non_georges/\"\r\n",
        "    dataset_folder_val = path + \"/georges_data/val/non_georges/\"\r\n",
        "    load_dataset(non_georges, dataset_folder_train, dataset_folder_val)\r\n",
        "\r\n",
        "\r\n"
      ],
      "execution_count": 176,
      "outputs": []
    },
    {
      "cell_type": "code",
      "metadata": {
        "id": "6OxMBKeWJxup"
      },
      "source": [
        "# full_load() #uncomment for downloading images into google drive"
      ],
      "execution_count": 177,
      "outputs": []
    },
    {
      "cell_type": "code",
      "metadata": {
        "id": "z-Rv2O5XN7Gq"
      },
      "source": [
        "def train_model(model, criterion, optimizer, scheduler, dataloaders, device, dataset_sizes, num_epochs=25):\r\n",
        "    since = time.time()\r\n",
        "\r\n",
        "    best_model_wts = copy.deepcopy(model.state_dict())\r\n",
        "    best_acc = 0.0\r\n",
        "\r\n",
        "    for epoch in range(num_epochs):\r\n",
        "        print('Epoch {}/{}'.format(epoch, num_epochs - 1))\r\n",
        "        print('-' * 10)\r\n",
        "\r\n",
        "        # Each epoch has a training and validation phase\r\n",
        "        for phase in ['train', 'val']:\r\n",
        "            if phase == 'train':\r\n",
        "                model.train()  # Set model to training mode\r\n",
        "            else:\r\n",
        "                model.eval()   # Set model to evaluate mode\r\n",
        "\r\n",
        "            running_loss = 0.0\r\n",
        "            running_corrects = 0\r\n",
        "\r\n",
        "            # Iterate over data.\r\n",
        "            for inputs, labels in dataloaders[phase]:\r\n",
        "                inputs = inputs.to(device)\r\n",
        "                labels = labels.to(device)\r\n",
        "\r\n",
        "                # zero the parameter gradients\r\n",
        "                optimizer.zero_grad()\r\n",
        "\r\n",
        "                # forward\r\n",
        "                # track history if only in train\r\n",
        "                with torch.set_grad_enabled(phase == 'train'):\r\n",
        "                    outputs = model(inputs)\r\n",
        "                    _, preds = torch.max(outputs, 1)\r\n",
        "                    loss = criterion(outputs, labels)\r\n",
        "\r\n",
        "                    # backward + optimize only if in training phase\r\n",
        "                    if phase == 'train':\r\n",
        "                        loss.backward()\r\n",
        "                        optimizer.step()\r\n",
        "\r\n",
        "                # statistics\r\n",
        "                running_loss += loss.item() * inputs.size(0)\r\n",
        "                running_corrects += torch.sum(preds == labels.data)\r\n",
        "            if phase == 'train':\r\n",
        "                scheduler.step()\r\n",
        "\r\n",
        "            epoch_loss = running_loss / dataset_sizes[phase]\r\n",
        "            epoch_acc = running_corrects.double() / dataset_sizes[phase]\r\n",
        "\r\n",
        "            print('{} Loss: {:.4f} Acc: {:.4f}'.format(\r\n",
        "                phase, epoch_loss, epoch_acc))\r\n",
        "\r\n",
        "            # deep copy the model\r\n",
        "            if phase == 'val' and epoch_acc > best_acc:\r\n",
        "                best_acc = epoch_acc\r\n",
        "                best_model_wts = copy.deepcopy(model.state_dict())\r\n",
        "\r\n",
        "        print()\r\n",
        "\r\n",
        "    time_elapsed = time.time() - since\r\n",
        "    print('Training complete in {:.0f}m {:.0f}s'.format(\r\n",
        "        time_elapsed // 60, time_elapsed % 60))\r\n",
        "    print('Best val Acc: {:4f}'.format(best_acc))\r\n",
        "\r\n",
        "    # load best model weights\r\n",
        "    model.load_state_dict(best_model_wts)\r\n",
        "    return model"
      ],
      "execution_count": 178,
      "outputs": []
    },
    {
      "cell_type": "code",
      "metadata": {
        "id": "em3dWMa2Q1nj"
      },
      "source": [
        "def confusion_matrix_model(model, dataloaders, device, class_names, num_images=100):\r\n",
        "    was_training = model.training\r\n",
        "    model.eval()\r\n",
        "    images_so_far = 0    \r\n",
        "    confusion_matrix = torch.zeros(2, 2)\r\n",
        "    with torch.no_grad():\r\n",
        "        for i, (inputs, labels) in enumerate(dataloaders['val']):\r\n",
        "            inputs = inputs.to(device)\r\n",
        "            labels = labels.to(device)\r\n",
        "\r\n",
        "            outputs = model(inputs)\r\n",
        "            _, preds = torch.max(outputs, 1)\r\n",
        "            for t, p in zip(labels.view(-1), preds.view(-1)):\r\n",
        "                confusion_matrix[t.long(), p.long()] += 1\r\n",
        "        model.train(mode=was_training)\r\n",
        "        \r\n",
        "    print(\"Confusion matrix:\")    \r\n",
        "    print(confusion_matrix.numpy())\r\n",
        "    pc = confusion_matrix.diag()/confusion_matrix.sum(1)\r\n",
        "    print(\"Per-class accuracy:\")\r\n",
        "    print(class_names[0] + \": \" + str(pc[0].numpy()))\r\n",
        "    print(class_names[1] + \": \" + str(pc[1].numpy()))"
      ],
      "execution_count": 179,
      "outputs": []
    },
    {
      "cell_type": "code",
      "metadata": {
        "id": "Fi61WJd5Q8rM"
      },
      "source": [
        "def imshow(inp, title=None):\r\n",
        "    \"\"\"Imshow for Tensor.\"\"\"\r\n",
        "    inp = inp.numpy().transpose((1, 2, 0))\r\n",
        "    mean = np.array([0.485, 0.456, 0.406])\r\n",
        "    std = np.array([0.229, 0.224, 0.225])\r\n",
        "    inp = std * inp + mean\r\n",
        "    inp = np.clip(inp, 0, 1)\r\n",
        "    plt.imshow(inp)\r\n",
        "    if title is not None:\r\n",
        "        plt.title(title)\r\n",
        "    plt.pause(0.001)  # pause a bit so that plots are updated"
      ],
      "execution_count": 180,
      "outputs": []
    },
    {
      "cell_type": "code",
      "metadata": {
        "id": "6U_o0vRzJ25q"
      },
      "source": [
        "######################################################################\r\n",
        "# Visualizing the model predictions\r\n",
        "def visualize_model(model, dataloaders, device, class_names, num_images=6):\r\n",
        "    was_training = model.training\r\n",
        "    model.eval()\r\n",
        "    images_so_far = 0\r\n",
        "    fig = plt.figure()\r\n",
        "\r\n",
        "    with torch.no_grad():\r\n",
        "        for i, (inputs, labels) in enumerate(dataloaders['val']):\r\n",
        "            inputs = inputs.to(device)\r\n",
        "            labels = labels.to(device)\r\n",
        "\r\n",
        "            outputs = model(inputs)\r\n",
        "            _, preds = torch.max(outputs, 1)\r\n",
        "\r\n",
        "            for j in range(inputs.size()[0]):\r\n",
        "                images_so_far += 1\r\n",
        "                ax = plt.subplot(num_images//2, 2, images_so_far)\r\n",
        "                ax.axis('off')\r\n",
        "                ax.set_title('predicted: {}'.format(class_names[preds[j]]))\r\n",
        "                imshow(inputs.cpu().data[j])\r\n",
        "\r\n",
        "                if images_so_far == num_images:\r\n",
        "                    model.train(mode=was_training)\r\n",
        "                    return\r\n",
        "        model.train(mode=was_training)"
      ],
      "execution_count": 181,
      "outputs": []
    },
    {
      "cell_type": "code",
      "metadata": {
        "colab": {
          "base_uri": "https://localhost:8080/"
        },
        "id": "EEi2Ze84IwCb",
        "outputId": "34bc7a75-efbd-404c-c233-3a5c2f17f269"
      },
      "source": [
        "# Data augmentation and normalization for training\r\n",
        "data_transforms = {\r\n",
        "    'train': transforms.Compose([\r\n",
        "        transforms.RandomResizedCrop(224),\r\n",
        "        transforms.RandomHorizontalFlip(),\r\n",
        "        transforms.ToTensor(),\r\n",
        "        transforms.Normalize([0.485, 0.456, 0.406], [0.229, 0.224, 0.225])\r\n",
        "    ]),\r\n",
        "    'val': transforms.Compose([\r\n",
        "        transforms.Resize(256),\r\n",
        "        transforms.RandomCrop(224),\r\n",
        "        transforms.ToTensor(),\r\n",
        "        transforms.Normalize([0.485, 0.456, 0.406], [0.229, 0.224, 0.225])\r\n",
        "    ]),\r\n",
        "}\r\n",
        "\r\n",
        "data_dir = F\"/content/gdrive/My Drive/georges_data/\"\r\n",
        "image_datasets = {x: datasets.ImageFolder(os.path.join(data_dir, x),\r\n",
        "                                            data_transforms[x])\r\n",
        "                    for x in ['train', 'val']}\r\n",
        "dataloaders = {x: torch.utils.data.DataLoader(image_datasets[x], batch_size=16,\r\n",
        "                                                shuffle=True, num_workers=4)\r\n",
        "                for x in ['train', 'val']}\r\n",
        "dataset_sizes = {x: len(image_datasets[x]) for x in ['train', 'val']}\r\n",
        "class_names = image_datasets['train'].classes\r\n",
        "\r\n",
        "device = torch.device(\"cuda:0\" if torch.cuda.is_available() else \"cpu\")\r\n",
        "print(device)\r\n"
      ],
      "execution_count": 182,
      "outputs": [
        {
          "output_type": "stream",
          "text": [
            "cuda:0\n"
          ],
          "name": "stdout"
        }
      ]
    },
    {
      "cell_type": "code",
      "metadata": {
        "id": "IEyo2tqiJ_PM"
      },
      "source": [
        "######################################################################\r\n",
        "# Visualize images\r\n",
        "inputs, classes = next(iter(dataloaders['train']))\r\n",
        "out = torchvision.utils.make_grid(inputs[:4])\r\n",
        "imshow(out, title=[class_names[x] for x in classes[:4]])\r\n",
        "inputs, classes = next(iter(dataloaders['train']))\r\n",
        "out = torchvision.utils.make_grid(inputs[:4])\r\n",
        "imshow(out, title=[class_names[x] for x in classes[:4]])\r\n",
        "inputs, classes = next(iter(dataloaders['train']))\r\n",
        "out = torchvision.utils.make_grid(inputs[:4])\r\n",
        "imshow(out, title=[class_names[x] for x in classes[:4]])\r\n",
        "inputs, classes = next(iter(dataloaders['train']))\r\n",
        "out = torchvision.utils.make_grid(inputs[:4])\r\n",
        "imshow(out, title=[class_names[x] for x in classes[:4]])"
      ],
      "execution_count": null,
      "outputs": []
    },
    {
      "cell_type": "code",
      "metadata": {
        "colab": {
          "base_uri": "https://localhost:8080/"
        },
        "id": "cs2tdTpvI8g0",
        "outputId": "0065df10-7cba-4554-d6a7-a1f33d7512c3"
      },
      "source": [
        "######################################################################\r\n",
        "# Finetuning the convnet\r\n",
        "model_ft = models.resnet18(pretrained=True)\r\n",
        "num_ftrs = model_ft.fc.in_features\r\n",
        "model_ft.fc = nn.Linear(num_ftrs, 2)\r\n",
        "model_ft = model_ft.to(device)\r\n",
        "criterion = nn.CrossEntropyLoss()\r\n",
        "\r\n",
        "optimizer_ft = optim.SGD(model_ft.parameters(), lr=0.001, momentum=0.9)\r\n",
        "exp_lr_scheduler = lr_scheduler.StepLR(optimizer_ft, step_size=7, gamma=0.1)\r\n",
        "######################################################################\r\n",
        "# Train and evaluate\r\n",
        "\r\n",
        "model_ft = train_model(model_ft, criterion, optimizer_ft, exp_lr_scheduler, dataloaders, device, dataset_sizes,\r\n",
        "                        num_epochs=20)\r\n",
        "\r\n",
        "######################################################################"
      ],
      "execution_count": 184,
      "outputs": [
        {
          "output_type": "stream",
          "text": [
            "Epoch 0/19\n",
            "----------\n",
            "train Loss: 0.4889 Acc: 0.7627\n",
            "val Loss: 0.3119 Acc: 0.8700\n",
            "\n",
            "Epoch 1/19\n",
            "----------\n",
            "train Loss: 0.3847 Acc: 0.8311\n",
            "val Loss: 0.2663 Acc: 0.8968\n",
            "\n",
            "Epoch 2/19\n",
            "----------\n",
            "train Loss: 0.3292 Acc: 0.8581\n",
            "val Loss: 0.3167 Acc: 0.8708\n",
            "\n",
            "Epoch 3/19\n",
            "----------\n",
            "train Loss: 0.3242 Acc: 0.8648\n",
            "val Loss: 0.2399 Acc: 0.9102\n",
            "\n",
            "Epoch 4/19\n",
            "----------\n",
            "train Loss: 0.2829 Acc: 0.8800\n",
            "val Loss: 0.2123 Acc: 0.9220\n",
            "\n",
            "Epoch 5/19\n",
            "----------\n",
            "train Loss: 0.2888 Acc: 0.8761\n",
            "val Loss: 0.2223 Acc: 0.9220\n",
            "\n",
            "Epoch 6/19\n",
            "----------\n",
            "train Loss: 0.2475 Acc: 0.8985\n",
            "val Loss: 0.2735 Acc: 0.8977\n",
            "\n",
            "Epoch 7/19\n",
            "----------\n",
            "train Loss: 0.2225 Acc: 0.9042\n",
            "val Loss: 0.2148 Acc: 0.9161\n",
            "\n",
            "Epoch 8/19\n",
            "----------\n",
            "train Loss: 0.2008 Acc: 0.9207\n",
            "val Loss: 0.1985 Acc: 0.9287\n",
            "\n",
            "Epoch 9/19\n",
            "----------\n",
            "train Loss: 0.1976 Acc: 0.9187\n",
            "val Loss: 0.2084 Acc: 0.9245\n",
            "\n",
            "Epoch 10/19\n",
            "----------\n",
            "train Loss: 0.1963 Acc: 0.9159\n",
            "val Loss: 0.1968 Acc: 0.9362\n",
            "\n",
            "Epoch 11/19\n",
            "----------\n",
            "train Loss: 0.1896 Acc: 0.9224\n",
            "val Loss: 0.1820 Acc: 0.9362\n",
            "\n",
            "Epoch 12/19\n",
            "----------\n",
            "train Loss: 0.1825 Acc: 0.9302\n",
            "val Loss: 0.2034 Acc: 0.9237\n",
            "\n",
            "Epoch 13/19\n",
            "----------\n",
            "train Loss: 0.1832 Acc: 0.9285\n",
            "val Loss: 0.2096 Acc: 0.9245\n",
            "\n",
            "Epoch 14/19\n",
            "----------\n",
            "train Loss: 0.1832 Acc: 0.9257\n",
            "val Loss: 0.2105 Acc: 0.9195\n",
            "\n",
            "Epoch 15/19\n",
            "----------\n",
            "train Loss: 0.1826 Acc: 0.9278\n",
            "val Loss: 0.2009 Acc: 0.9329\n",
            "\n",
            "Epoch 16/19\n",
            "----------\n",
            "train Loss: 0.1873 Acc: 0.9237\n",
            "val Loss: 0.1906 Acc: 0.9337\n",
            "\n",
            "Epoch 17/19\n",
            "----------\n",
            "train Loss: 0.1774 Acc: 0.9311\n",
            "val Loss: 0.2046 Acc: 0.9270\n",
            "\n",
            "Epoch 18/19\n",
            "----------\n",
            "train Loss: 0.1767 Acc: 0.9291\n",
            "val Loss: 0.1945 Acc: 0.9253\n",
            "\n",
            "Epoch 19/19\n",
            "----------\n",
            "train Loss: 0.1781 Acc: 0.9265\n",
            "val Loss: 0.1918 Acc: 0.9295\n",
            "\n",
            "Training complete in 18m 51s\n",
            "Best val Acc: 0.936242\n"
          ],
          "name": "stdout"
        }
      ]
    },
    {
      "cell_type": "code",
      "metadata": {
        "colab": {
          "base_uri": "https://localhost:8080/"
        },
        "id": "v6hqGuU0I0k5",
        "outputId": "2e7ab504-8d91-46bf-8201-6d374355dd72"
      },
      "source": [
        "confusion_matrix_model(model_ft, dataloaders, device, class_names, num_images=100)"
      ],
      "execution_count": 185,
      "outputs": [
        {
          "output_type": "stream",
          "text": [
            "Confusion matrix:\n",
            "[[453.  66.]\n",
            " [ 27. 646.]]\n",
            "Per-class accuracy:\n",
            "georges: 0.87283236\n",
            "non_georges: 0.9598811\n"
          ],
          "name": "stdout"
        }
      ]
    },
    {
      "cell_type": "code",
      "metadata": {
        "id": "8WV3-egsIzAp"
      },
      "source": [
        "\r\n",
        "visualize_model(model_ft, dataloaders, device, class_names, num_images=2)\r\n",
        "visualize_model(model_ft, dataloaders, device, class_names, num_images=2)\r\n",
        "visualize_model(model_ft, dataloaders, device, class_names, num_images=2)\r\n",
        "visualize_model(model_ft, dataloaders, device, class_names, num_images=2)\r\n",
        "plt.ioff()\r\n",
        "plt.show()"
      ],
      "execution_count": null,
      "outputs": []
    }
  ]
}